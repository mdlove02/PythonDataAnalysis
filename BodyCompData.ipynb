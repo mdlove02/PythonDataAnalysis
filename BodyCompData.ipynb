{
 "cells": [
  {
   "cell_type": "code",
   "execution_count": 1,
   "id": "5eb0ae36",
   "metadata": {},
   "outputs": [],
   "source": [
    "import pandas as pd"
   ]
  },
  {
   "cell_type": "code",
   "execution_count": 2,
   "id": "fd6b8203",
   "metadata": {},
   "outputs": [],
   "source": [
    "import matplotlib as mp\n"
   ]
  },
  {
   "cell_type": "code",
   "execution_count": 3,
   "id": "4a67ccd8",
   "metadata": {},
   "outputs": [
    {
     "name": "stdout",
     "output_type": "stream",
     "text": [
      "    ID     Sex  Age (yrs)  Height (in)  DXA Weight (lbs)  \\\n",
      "0    1    Male         31           73            215.82   \n",
      "1    2    Male         31           72            260.48   \n",
      "2    3    Male         38           69            175.12   \n",
      "3    4  Female         32           57            207.02   \n",
      "4    5    Male         55           71            195.80   \n",
      "5    6    Male         38           74            180.18   \n",
      "6    7    Male         30           73            157.30   \n",
      "7    8  Female         24           65            111.76   \n",
      "8    9    Male         36           70            131.78   \n",
      "9   10    Male         60           71            145.42   \n",
      "10  11    Male         31           67            159.19   \n",
      "11  12    Male         28           73            162.58   \n",
      "12  13    Male         34           74            176.88   \n",
      "13  14  Female         23           68            113.30   \n",
      "14  15  Female         22           61            102.52   \n",
      "15  16  Female         32           67            118.14   \n",
      "16  17    Male         35           73            210.10   \n",
      "17  18  Female         25           65            152.24   \n",
      "18  19    Male         30           72            145.42   \n",
      "19  20    Male         22           72            218.68   \n",
      "20  21    Male         18           68            132.85   \n",
      "21  22    Male         19           76            221.69   \n",
      "22  23    Male         50           73            194.70   \n",
      "23  24    Male         37           66            146.52   \n",
      "24  25    Male         25           75            194.26   \n",
      "25  26    Male         41           78            165.22   \n",
      "26  27    Male         28           74            196.90   \n",
      "27  28    Male         33           72            164.10   \n",
      "28  29    Male         32           72            192.90   \n",
      "29  30    Male         42           73            215.16   \n",
      "30  31  Female         71           67            198.50   \n",
      "31  32    Male         23           73            146.96   \n",
      "32  33  Female         27           63            176.66   \n",
      "33  34    Male         41           72            149.38   \n",
      "34  35    Male         24           68            149.60   \n",
      "35  36    Male         50           65            132.44   \n",
      "36  37    Male         27           71            170.94   \n",
      "37  38  Female         23           65             93.50   \n",
      "38  39    Male         51           70            218.68   \n",
      "39  40    Male         34           70            178.00   \n",
      "\n",
      "    BodPod Weight (LBS)  Level of injury  DXA-%Fat  BODPOD % Fat  Unnamed: 9  \\\n",
      "0                 213.00              T1      35.5          39.6         NaN   \n",
      "1                 260.00              T4      30.5          29.7         NaN   \n",
      "2                 186.80             T10      47.2          40.7         NaN   \n",
      "3                 212.00              C4      40.7          38.2         NaN   \n",
      "4                 193.75              C4      48.4          49.9         NaN   \n",
      "5                 182.00             T12      37.0          19.3         NaN   \n",
      "6                 169.00              T4      25.7          26.1         NaN   \n",
      "7                 110.00              C6      23.1          11.9         NaN   \n",
      "8                 125.00              C4      25.8          25.5         NaN   \n",
      "9                 133.25              C4      28.4          16.6         NaN   \n",
      "10                153.25              C4      31.3          28.6         NaN   \n",
      "11                157.75              C7      41.7          53.6         NaN   \n",
      "12                192.50              C5      29.1          22.1         NaN   \n",
      "13                120.00              C3      41.2           5.5         NaN   \n",
      "14                 96.25              T1      33.3          28.9         NaN   \n",
      "15                117.25              C1      41.1          30.1         NaN   \n",
      "16                208.75              T7      42.5          40.9         NaN   \n",
      "17                153.75              C4      47.0          45.5         NaN   \n",
      "18                146.00              C4      36.5          33.0         NaN   \n",
      "19                220.00              C8      47.3          40.4         NaN   \n",
      "20                142.00              C4      38.5          29.7         NaN   \n",
      "21                219.00              C4      41.8          39.8         NaN   \n",
      "22                195.00              C4      40.3          39.5         NaN   \n",
      "23                149.00              T1      38.9          39.2         NaN   \n",
      "24                194.00              C8      34.9          30.8         NaN   \n",
      "25                168.00              C6      38.1          30.6         NaN   \n",
      "26                203.50              C4      39.2          32.4         NaN   \n",
      "27                164.00              C4      28.7          30.6         NaN   \n",
      "28                192.00              C5      42.9          34.7         NaN   \n",
      "29                216.00              C4      41.9          40.9         NaN   \n",
      "30                197.25              C2      49.1          55.4         NaN   \n",
      "31                143.75              C5      33.7          26.9         NaN   \n",
      "32                175.00              C4      52.4          47.6         NaN   \n",
      "33                149.50              C4      44.5          43.2         NaN   \n",
      "34                150.00              C4      40.9          31.7         NaN   \n",
      "35                135.00              T6      30.6          18.3         NaN   \n",
      "36                169.00              T2      37.5          37.4         NaN   \n",
      "37                 92.50              C5      39.1          33.4         NaN   \n",
      "38                216.00              C4      45.2          41.0         NaN   \n",
      "39                182.00              T5      35.2          36.7         NaN   \n",
      "\n",
      "    Unnamed: 10  Unnamed: 11  Unnamed: 12  Unnamed: 13  Unnamed: 14  \n",
      "0           NaN          NaN          NaN          NaN          NaN  \n",
      "1           NaN          NaN          NaN          NaN          NaN  \n",
      "2           NaN          NaN          NaN          NaN          NaN  \n",
      "3           NaN          NaN          NaN          NaN          NaN  \n",
      "4           NaN          NaN          NaN          NaN          NaN  \n",
      "5           NaN          NaN          NaN          NaN          NaN  \n",
      "6           NaN          NaN          NaN          NaN          NaN  \n",
      "7           NaN          NaN          NaN          NaN          NaN  \n",
      "8           NaN          NaN          NaN          NaN          NaN  \n",
      "9           NaN          NaN          NaN          NaN          NaN  \n",
      "10          NaN          NaN          NaN          NaN          NaN  \n",
      "11          NaN          NaN          NaN          NaN          NaN  \n",
      "12          NaN          NaN          NaN          NaN          NaN  \n",
      "13          NaN          NaN          NaN          NaN          NaN  \n",
      "14          NaN          NaN          NaN          NaN          NaN  \n",
      "15          NaN          NaN          NaN          NaN          NaN  \n",
      "16          NaN          NaN          NaN          NaN          NaN  \n",
      "17          NaN          NaN          NaN          NaN          NaN  \n",
      "18          NaN          NaN          NaN          NaN          NaN  \n",
      "19          NaN          NaN          NaN          NaN          NaN  \n",
      "20          NaN          NaN          NaN          NaN          NaN  \n",
      "21          NaN          NaN          NaN          NaN          NaN  \n",
      "22          NaN          NaN          NaN          NaN          NaN  \n",
      "23          NaN          NaN          NaN          NaN          NaN  \n",
      "24          NaN          NaN          NaN          NaN          NaN  \n",
      "25          NaN          NaN          NaN          NaN          NaN  \n",
      "26          NaN          NaN          NaN          NaN          NaN  \n",
      "27          NaN          NaN          NaN          NaN          NaN  \n",
      "28          NaN          NaN          NaN          NaN          NaN  \n",
      "29          NaN          NaN          NaN          NaN          NaN  \n",
      "30          NaN          NaN          NaN          NaN          NaN  \n",
      "31          NaN          NaN          NaN          NaN          NaN  \n",
      "32          NaN          NaN          NaN          NaN          NaN  \n",
      "33          NaN          NaN          NaN          NaN          NaN  \n",
      "34          NaN          NaN          NaN          NaN          NaN  \n",
      "35          NaN          NaN          NaN          NaN          NaN  \n",
      "36          NaN          NaN          NaN          NaN          NaN  \n",
      "37          NaN          NaN          NaN          NaN          NaN  \n",
      "38          NaN          NaN          NaN          NaN          NaN  \n",
      "39          NaN          NaN          NaN          NaN          NaN  \n"
     ]
    }
   ],
   "source": [
    "BodyComp = pd.read_excel(r'C:\\Users\\matth\\OneDrive\\Desktop\\PythonDataAnalysis\\data.xlsx')\n",
    "print(BodyComp)"
   ]
  },
  {
   "cell_type": "code",
   "execution_count": 4,
   "id": "1ccfac6c",
   "metadata": {},
   "outputs": [],
   "source": [
    "demographics = BodyComp[[\"Sex\", \"Age (yrs)\", \"Height (in)\", \"Level of injury\" ]]"
   ]
  },
  {
   "cell_type": "code",
   "execution_count": 5,
   "id": "9e9be04f",
   "metadata": {},
   "outputs": [
    {
     "data": {
      "text/plain": [
       "Age (yrs)      33.825\n",
       "Height (in)    69.950\n",
       "dtype: float64"
      ]
     },
     "execution_count": 5,
     "metadata": {},
     "output_type": "execute_result"
    }
   ],
   "source": [
    "demographics.mean(0)"
   ]
  },
  {
   "cell_type": "code",
   "execution_count": 6,
   "id": "2a7b3d1c",
   "metadata": {},
   "outputs": [
    {
     "data": {
      "text/plain": [
       "Age (yrs)      11.580017\n",
       "Height (in)     4.290419\n",
       "dtype: float64"
      ]
     },
     "execution_count": 6,
     "metadata": {},
     "output_type": "execute_result"
    }
   ],
   "source": [
    "demographics.std(0)"
   ]
  },
  {
   "cell_type": "code",
   "execution_count": 13,
   "id": "88552800",
   "metadata": {},
   "outputs": [
    {
     "ename": "AttributeError",
     "evalue": "'DataFrame' object has no attribute 'str'",
     "output_type": "error",
     "traceback": [
      "\u001b[1;31m---------------------------------------------------------------------------\u001b[0m",
      "\u001b[1;31mAttributeError\u001b[0m                            Traceback (most recent call last)",
      "\u001b[1;32m<ipython-input-13-2131dffdc861>\u001b[0m in \u001b[0;36m<module>\u001b[1;34m\u001b[0m\n\u001b[1;32m----> 1\u001b[1;33m \u001b[0mdemographics\u001b[0m\u001b[1;33m.\u001b[0m\u001b[0mstr\u001b[0m\u001b[1;33m.\u001b[0m\u001b[0mcount\u001b[0m\u001b[1;33m(\u001b[0m\u001b[1;34m\"Sex, Level of injury\"\u001b[0m\u001b[1;33m)\u001b[0m\u001b[1;33m\u001b[0m\u001b[1;33m\u001b[0m\u001b[0m\n\u001b[0m",
      "\u001b[1;32m~\\anaconda3\\lib\\site-packages\\pandas\\core\\generic.py\u001b[0m in \u001b[0;36m__getattr__\u001b[1;34m(self, name)\u001b[0m\n\u001b[0;32m   5463\u001b[0m             \u001b[1;32mif\u001b[0m \u001b[0mself\u001b[0m\u001b[1;33m.\u001b[0m\u001b[0m_info_axis\u001b[0m\u001b[1;33m.\u001b[0m\u001b[0m_can_hold_identifiers_and_holds_name\u001b[0m\u001b[1;33m(\u001b[0m\u001b[0mname\u001b[0m\u001b[1;33m)\u001b[0m\u001b[1;33m:\u001b[0m\u001b[1;33m\u001b[0m\u001b[1;33m\u001b[0m\u001b[0m\n\u001b[0;32m   5464\u001b[0m                 \u001b[1;32mreturn\u001b[0m \u001b[0mself\u001b[0m\u001b[1;33m[\u001b[0m\u001b[0mname\u001b[0m\u001b[1;33m]\u001b[0m\u001b[1;33m\u001b[0m\u001b[1;33m\u001b[0m\u001b[0m\n\u001b[1;32m-> 5465\u001b[1;33m             \u001b[1;32mreturn\u001b[0m \u001b[0mobject\u001b[0m\u001b[1;33m.\u001b[0m\u001b[0m__getattribute__\u001b[0m\u001b[1;33m(\u001b[0m\u001b[0mself\u001b[0m\u001b[1;33m,\u001b[0m \u001b[0mname\u001b[0m\u001b[1;33m)\u001b[0m\u001b[1;33m\u001b[0m\u001b[1;33m\u001b[0m\u001b[0m\n\u001b[0m\u001b[0;32m   5466\u001b[0m \u001b[1;33m\u001b[0m\u001b[0m\n\u001b[0;32m   5467\u001b[0m     \u001b[1;32mdef\u001b[0m \u001b[0m__setattr__\u001b[0m\u001b[1;33m(\u001b[0m\u001b[0mself\u001b[0m\u001b[1;33m,\u001b[0m \u001b[0mname\u001b[0m\u001b[1;33m:\u001b[0m \u001b[0mstr\u001b[0m\u001b[1;33m,\u001b[0m \u001b[0mvalue\u001b[0m\u001b[1;33m)\u001b[0m \u001b[1;33m->\u001b[0m \u001b[1;32mNone\u001b[0m\u001b[1;33m:\u001b[0m\u001b[1;33m\u001b[0m\u001b[1;33m\u001b[0m\u001b[0m\n",
      "\u001b[1;31mAttributeError\u001b[0m: 'DataFrame' object has no attribute 'str'"
     ]
    }
   ],
   "source": [
    "demographics.str.count(\"Sex, Level of injury\")"
   ]
  },
  {
   "cell_type": "code",
   "execution_count": null,
   "id": "5166e1ab",
   "metadata": {},
   "outputs": [],
   "source": []
  }
 ],
 "metadata": {
  "kernelspec": {
   "display_name": "Python 3",
   "language": "python",
   "name": "python3"
  },
  "language_info": {
   "codemirror_mode": {
    "name": "ipython",
    "version": 3
   },
   "file_extension": ".py",
   "mimetype": "text/x-python",
   "name": "python",
   "nbconvert_exporter": "python",
   "pygments_lexer": "ipython3",
   "version": "3.8.8"
  }
 },
 "nbformat": 4,
 "nbformat_minor": 5
}
