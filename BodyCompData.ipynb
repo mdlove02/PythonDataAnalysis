{
 "cells": [
  {
   "cell_type": "code",
   "execution_count": 1,
   "id": "5eb0ae36",
   "metadata": {},
   "outputs": [],
   "source": [
    "import pandas as pd\n",
    "import numpy as np\n",
    "import matplotlib.pyplot as mp\n",
    "import scipy.stats as stats\n",
    "import statsmodels.api as sm"
   ]
  },
  {
   "cell_type": "code",
   "execution_count": 2,
   "id": "2f4cadd2",
   "metadata": {},
   "outputs": [
    {
     "data": {
      "text/html": [
       "<div>\n",
       "<style scoped>\n",
       "    .dataframe tbody tr th:only-of-type {\n",
       "        vertical-align: middle;\n",
       "    }\n",
       "\n",
       "    .dataframe tbody tr th {\n",
       "        vertical-align: top;\n",
       "    }\n",
       "\n",
       "    .dataframe thead th {\n",
       "        text-align: right;\n",
       "    }\n",
       "</style>\n",
       "<table border=\"1\" class=\"dataframe\">\n",
       "  <thead>\n",
       "    <tr style=\"text-align: right;\">\n",
       "      <th></th>\n",
       "      <th>ID</th>\n",
       "      <th>Sex</th>\n",
       "      <th>Age(yrs)</th>\n",
       "      <th>Height(in)</th>\n",
       "      <th>Weight(lbs)</th>\n",
       "      <th>Level of injury</th>\n",
       "      <th>DXA%Fat</th>\n",
       "      <th>BODPOD%Fat</th>\n",
       "    </tr>\n",
       "  </thead>\n",
       "  <tbody>\n",
       "    <tr>\n",
       "      <th>0</th>\n",
       "      <td>1</td>\n",
       "      <td>Male</td>\n",
       "      <td>31</td>\n",
       "      <td>73</td>\n",
       "      <td>213.00</td>\n",
       "      <td>T3</td>\n",
       "      <td>35.5</td>\n",
       "      <td>39.6</td>\n",
       "    </tr>\n",
       "    <tr>\n",
       "      <th>1</th>\n",
       "      <td>2</td>\n",
       "      <td>Male</td>\n",
       "      <td>31</td>\n",
       "      <td>72</td>\n",
       "      <td>260.00</td>\n",
       "      <td>T4</td>\n",
       "      <td>30.5</td>\n",
       "      <td>29.7</td>\n",
       "    </tr>\n",
       "    <tr>\n",
       "      <th>2</th>\n",
       "      <td>3</td>\n",
       "      <td>Male</td>\n",
       "      <td>38</td>\n",
       "      <td>69</td>\n",
       "      <td>186.80</td>\n",
       "      <td>T9</td>\n",
       "      <td>47.2</td>\n",
       "      <td>40.7</td>\n",
       "    </tr>\n",
       "    <tr>\n",
       "      <th>3</th>\n",
       "      <td>4</td>\n",
       "      <td>Female</td>\n",
       "      <td>32</td>\n",
       "      <td>57</td>\n",
       "      <td>212.00</td>\n",
       "      <td>C4</td>\n",
       "      <td>40.7</td>\n",
       "      <td>38.2</td>\n",
       "    </tr>\n",
       "    <tr>\n",
       "      <th>4</th>\n",
       "      <td>5</td>\n",
       "      <td>Male</td>\n",
       "      <td>55</td>\n",
       "      <td>71</td>\n",
       "      <td>193.75</td>\n",
       "      <td>C4</td>\n",
       "      <td>48.4</td>\n",
       "      <td>49.9</td>\n",
       "    </tr>\n",
       "  </tbody>\n",
       "</table>\n",
       "</div>"
      ],
      "text/plain": [
       "   ID     Sex  Age(yrs)  Height(in)  Weight(lbs) Level of injury  DXA%Fat  \\\n",
       "0   1    Male        31          73       213.00              T3     35.5   \n",
       "1   2    Male        31          72       260.00              T4     30.5   \n",
       "2   3    Male        38          69       186.80              T9     47.2   \n",
       "3   4  Female        32          57       212.00              C4     40.7   \n",
       "4   5    Male        55          71       193.75              C4     48.4   \n",
       "\n",
       "   BODPOD%Fat  \n",
       "0        39.6  \n",
       "1        29.7  \n",
       "2        40.7  \n",
       "3        38.2  \n",
       "4        49.9  "
      ]
     },
     "execution_count": 2,
     "metadata": {},
     "output_type": "execute_result"
    }
   ],
   "source": [
    "data = pd.read_excel(r'C:\\Users\\matth\\OneDrive\\Desktop\\PythonDataAnalysis\\data.xlsx') # made up data set\n",
    "data.head(5)"
   ]
  },
  {
   "cell_type": "code",
   "execution_count": 3,
   "id": "d86b5445",
   "metadata": {},
   "outputs": [],
   "source": [
    "male = data[data[\"Sex\"] == 'Male'] # Male column\n",
    "female = data[data[\"Sex\"] == 'Female'] # Female column\n",
    "\n",
    "dxa = data[[\"DXA%Fat\"]] # dxa results column\n",
    "bodpod = data[[\"BODPOD%Fat\"]] # bodpod results column\n",
    "\n",
    "c1 = data[data[\"Level of injury\"] == \"C1\"] # pulling each LOI out to concat\n",
    "c2 = data[data[\"Level of injury\"] == \"C2\"]\n",
    "c3 = data[data[\"Level of injury\"] == \"C3\"]\n",
    "c4 = data[data[\"Level of injury\"] == \"C4\"]\n",
    "c5 = data[data[\"Level of injury\"] == \"C5\"]\n",
    "c6 = data[data[\"Level of injury\"] == \"C6\"]\n",
    "c7 = data[data[\"Level of injury\"] == \"C7\"]\n",
    "\n",
    "t1 = data[data[\"Level of injury\"] == \"T1\"]\n",
    "t2 = data[data[\"Level of injury\"] == \"T2\"]\n",
    "t3 = data[data[\"Level of injury\"] == \"T3\"]\n",
    "t4 = data[data[\"Level of injury\"] == \"T4\"]\n",
    "t5 = data[data[\"Level of injury\"] == \"T5\"]\n",
    "t6 = data[data[\"Level of injury\"] == \"T6\"]\n",
    "t7 = data[data[\"Level of injury\"] == \"T7\"]\n",
    "t8 = data[data[\"Level of injury\"] == \"T8\"]\n",
    "t9 = data[data[\"Level of injury\"] == \"T9\"]\n",
    "t10 = data[data[\"Level of injury\"] == \"T10\"]\n",
    "t11 = data[data[\"Level of injury\"] == \"T11\"]\n",
    "t12 = data[data[\"Level of injury\"] == \"T12\"]\n",
    "\n",
    "cervical = pd.concat([c1, c2, c3, c4, c5, c6, c7]) # all cervical particpants\n",
    "thoracic = pd.concat([t1, t2, t3, t4, t5, t6, t7, t8, t9, t10, t11, t12]) # all thoracic particpants\n",
    "\n",
    "c_male = cervical[cervical[\"Sex\"] == \"Male\"] # separating the LOI by Sex/Level to graph\n",
    "t_male = thoracic[thoracic[\"Sex\"] == \"Male\"]\n",
    "c_female = cervical[cervical[\"Sex\"] == \"Female\"]\n",
    "t_female = thoracic[thoracic[\"Sex\"] == \"Female\"]\n",
    "\n",
    "\n"
   ]
  },
  {
   "cell_type": "code",
   "execution_count": 4,
   "id": "369d1fee",
   "metadata": {},
   "outputs": [],
   "source": [
    "demo_mean = data[[\"Age(yrs)\", \"Height(in)\", \"Weight(lbs)\", \"DXA%Fat\", \"BODPOD%Fat\"]].mean() # getting avg for sample\n",
    "demo_stdev = data[[\"Age(yrs)\", \"Height(in)\", \"Weight(lbs)\", \"DXA%Fat\", \"BODPOD%Fat\"]].std() # getting stdev for sample\n",
    "dm = np.array(demo_mean)\n",
    "ds = np.array(demo_stdev)  # creating arrays to make it easier to create table\n",
    "\n",
    "male_demo_mean = male[[\"Age(yrs)\", \"Height(in)\", \"Weight(lbs)\", \"DXA%Fat\", \"BODPOD%Fat\"]].mean() # below is getting avg/stdev by sex \n",
    "male_demo_stdev = male[[\"Age(yrs)\", \"Height(in)\", \"Weight(lbs)\", \"DXA%Fat\", \"BODPOD%Fat\"]].std() \n",
    "mdm = np.array(male_demo_mean)\n",
    "mds = np.array(male_demo_stdev)\n",
    "\n",
    "female_demo_mean  = female[[\"Age(yrs)\", \"Height(in)\", \"Weight(lbs)\", \"DXA%Fat\", \"BODPOD%Fat\"]].mean() \n",
    "female_demo_stdev  = female[[\"Age(yrs)\", \"Height(in)\", \"Weight(lbs)\", \"DXA%Fat\", \"BODPOD%Fat\"]].std() \n",
    "fdm = np.array(female_demo_mean)\n",
    "fds = np.array(female_demo_stdev)\n",
    "\n"
   ]
  },
  {
   "cell_type": "code",
   "execution_count": 5,
   "id": "71612382",
   "metadata": {},
   "outputs": [
    {
     "name": "stdout",
     "output_type": "stream",
     "text": [
      "           Total (N = 51)   Male (N = 37) Female (N = 14)\n",
      "Age(yrs)    34.37 ± 12.01   35.49 ± 11.54   31.42 ± 13.16\n",
      "Ht(in)       69.08 ± 4.46    71.22 ± 2.48    63.42 ± 3.47\n",
      "Wt(lbs)    171.93 ± 37.13  180.87 ± 32.68  148.02 ± 41.56\n",
      "DXA%BF       37.46 ± 7.54    36.98 ± 7.30    38.70 ± 8.30\n",
      "BODPOD%BF   32.97 ± 10.87    33.45 ± 9.71   31.67 ± 13.80\n"
     ]
    }
   ],
   "source": [
    "demo_table = {'Total (N = 51)': ['34.37 ± 12.01', '69.08 ± 4.46', '171.93 ± 37.13', '37.46 ± 7.54', '32.97 ± 10.87'],\n",
    "             'Male (N = 37)': ['35.49 ± 11.54', '71.22 ± 2.48', '180.87 ± 32.68', '36.98 ± 7.30', '33.45 ± 9.71'],\n",
    "             'Female (N = 14)': ['31.42 ± 13.16', '63.42 ± 3.47', '148.02 ± 41.56', '38.70 ± 8.30', '31.67 ± 13.80']} #dict\n",
    "\n",
    "demo_table_df = pd.DataFrame(demo_table, columns = ['Total (N = 51)', 'Male (N = 37)', 'Female (N = 14)'],\n",
    "                            index = ['Age(yrs)', 'Ht(in)', 'Wt(lbs)', 'DXA%BF', 'BODPOD%BF']) # creating table from dict\n",
    "\n",
    "print(demo_table_df)"
   ]
  },
  {
   "cell_type": "code",
   "execution_count": 6,
   "id": "01025906",
   "metadata": {},
   "outputs": [
    {
     "data": {
      "image/png": "[encoded data removed]",
      "text/plain": [
       "<Figure size 720x360 with 1 Axes>"
      ]
     },
     "metadata": {},
     "output_type": "display_data"
    },
    {
     "data": {
      "image/png": "[encoded data removed]",
      "text/plain": [
       "<Figure size 432x288 with 1 Axes>"
      ]
     },
     "metadata": {
      "needs_background": "light"
     },
     "output_type": "display_data"
    }
   ],
   "source": [
    "# Pie chart attempt below\n",
    "\n",
    "figure, x = mp.subplots(figsize = (10, 5))\n",
    "mysize = [\"Male 16\", \"Total:37 21\", \"Female 12\", \"Total:14 2\"]\n",
    "\n",
    "pie_chart = [int(x.split()[-1]) for x in mysize]\n",
    "legend = [str(x.split()[0]) for x in mysize]\n",
    "\n",
    "labels = ['Thoracic', 'Cervical', 'Cervical', 'Thoracic']\n",
    "explode = (0.1, 0.1, 0.1, 0.1)\n",
    "colors = ['#659dbd','#659dbd','#fbeec1','#fbeec1']\n",
    "\n",
    "x.pie(pie_chart, explode = explode, labels = labels, colors = colors, autopct='%1.1f%%',\n",
    "        shadow=True, startangle=0)\n",
    "\n",
    "mp.legend(legend, title=\"Sex\", loc=\"center\", bbox_to_anchor=(1, 0.5, 0.5, 1))\n",
    "\n",
    "x.set_title(\"Injury Level by Sex\")\n",
    "\n",
    "mp.show()\n",
    "\n",
    "\n",
    "# scatter plot attempt below\n",
    "\n",
    "mp.scatter(dxa, bodpod, c = 'black')\n",
    "mp.xlabel(\"DXA BF%\")\n",
    "mp.ylabel (\"BodPod BF%\")\n",
    "mp.title(\"Cor DXA and Bodpod BF%\")\n",
    "\n",
    "#z = np.polyfit(dxa, bodpod, 0)\n",
    "#p = np.poly1d(z)\n",
    "#mp.plot(dxa, p(dxa), \"r--\")\n",
    "\n",
    "mp.show()\n",
    "\n",
    "\n",
    "\n",
    "\n",
    "\n"
   ]
  },
  {
   "cell_type": "code",
   "execution_count": 7,
   "id": "5d4281ad",
   "metadata": {},
   "outputs": [
    {
     "data": {
      "text/plain": [
       "array([[<AxesSubplot:title={'center':'BODPOD%Fat'}>]], dtype=object)"
      ]
     },
     "execution_count": 7,
     "metadata": {},
     "output_type": "execute_result"
    },
    {
     "data": {
      "image/png": "[encoded data removed]",
      "text/plain": [
       "<Figure size 432x288 with 1 Axes>"
      ]
     },
     "metadata": {
      "needs_background": "light"
     },
     "output_type": "display_data"
    },
    {
     "data": {
      "image/png": "[encoded data removed]",
      "text/plain": [
       "<Figure size 432x288 with 1 Axes>"
      ]
     },
     "metadata": {
      "needs_background": "light"
     },
     "output_type": "display_data"
    }
   ],
   "source": [
    "dxa.hist()\n",
    "bodpod.hist()"
   ]
  },
  {
   "cell_type": "code",
   "execution_count": null,
   "id": "718e7f98",
   "metadata": {},
   "outputs": [],
   "source": []
  }
 ],
 "metadata": {
  "kernelspec": {
   "display_name": "Python 3",
   "language": "python",
   "name": "python3"
  },
  "language_info": {
   "codemirror_mode": {
    "name": "ipython",
    "version": 3
   },
   "file_extension": ".py",
   "mimetype": "text/x-python",
   "name": "python",
   "nbconvert_exporter": "python",
   "pygments_lexer": "ipython3",
   "version": "3.8.8"
  }
 },
 "nbformat": 4,
 "nbformat_minor": 5
}
