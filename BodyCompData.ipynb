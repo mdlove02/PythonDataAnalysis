{
 "cells": [
  {
   "cell_type": "code",
   "execution_count": 1,
   "id": "7d08250e",
   "metadata": {},
   "outputs": [
    {
     "name": "stdout",
     "output_type": "stream",
     "text": [
      "Requirement already satisfied: pandas in c:\\users\\matth\\anaconda3\\lib\\site-packages (1.2.4)\n",
      "Requirement already satisfied: python-dateutil>=2.7.3 in c:\\users\\matth\\anaconda3\\lib\\site-packages (from pandas) (2.8.1)\n",
      "Requirement already satisfied: pytz>=2017.3 in c:\\users\\matth\\anaconda3\\lib\\site-packages (from pandas) (2021.1)\n",
      "Requirement already satisfied: numpy>=1.16.5 in c:\\users\\matth\\anaconda3\\lib\\site-packages (from pandas) (1.20.1)\n",
      "Requirement already satisfied: six>=1.5 in c:\\users\\matth\\anaconda3\\lib\\site-packages (from python-dateutil>=2.7.3->pandas) (1.15.0)\n",
      "Note: you may need to restart the kernel to use updated packages.\n"
     ]
    }
   ],
   "source": [
    "pip install pandas"
   ]
  },
  {
   "cell_type": "code",
   "execution_count": 2,
   "id": "59269ea6",
   "metadata": {},
   "outputs": [
    {
     "name": "stdout",
     "output_type": "stream",
     "text": [
      "Requirement already satisfied: matplotlib in c:\\users\\matth\\anaconda3\\lib\\site-packages (3.3.4)\n",
      "Requirement already satisfied: kiwisolver>=1.0.1 in c:\\users\\matth\\anaconda3\\lib\\site-packages (from matplotlib) (1.3.1)\n",
      "Requirement already satisfied: pillow>=6.2.0 in c:\\users\\matth\\anaconda3\\lib\\site-packages (from matplotlib) (8.2.0)\n",
      "Requirement already satisfied: pyparsing!=2.0.4,!=2.1.2,!=2.1.6,>=2.0.3 in c:\\users\\matth\\anaconda3\\lib\\site-packages (from matplotlib) (2.4.7)\n",
      "Requirement already satisfied: cycler>=0.10 in c:\\users\\matth\\anaconda3\\lib\\site-packages (from matplotlib) (0.10.0)\n",
      "Requirement already satisfied: python-dateutil>=2.1 in c:\\users\\matth\\anaconda3\\lib\\site-packages (from matplotlib) (2.8.1)\n",
      "Requirement already satisfied: numpy>=1.15 in c:\\users\\matth\\anaconda3\\lib\\site-packages (from matplotlib) (1.20.1)\n",
      "Requirement already satisfied: six in c:\\users\\matth\\anaconda3\\lib\\site-packages (from cycler>=0.10->matplotlib) (1.15.0)\n",
      "Note: you may need to restart the kernel to use updated packages.\n"
     ]
    }
   ],
   "source": [
    "pip install matplotlib"
   ]
  },
  {
   "cell_type": "code",
   "execution_count": 1,
   "id": "5eb0ae36",
   "metadata": {},
   "outputs": [],
   "source": [
    "import pandas as pd"
   ]
  },
  {
   "cell_type": "code",
   "execution_count": 5,
   "id": "91d4644e",
   "metadata": {},
   "outputs": [],
   "source": [
    "df = pd.read_excel(r'C:\\Users\\matth\\OneDrive\\Desktop\\PythonDataAnalysis\\data.xlsx')"
   ]
  },
  {
   "cell_type": "code",
   "execution_count": 6,
   "id": "bf25e607",
   "metadata": {},
   "outputs": [
    {
     "name": "stdout",
     "output_type": "stream",
     "text": [
      "    ID     Sex  Age (yrs)  Stature (m) Level of injury  DXA-%Fat  \\\n",
      "0    1    Male         31           73              T1      35.5   \n",
      "1    2    Male         31           72              T4      30.5   \n",
      "2    3    Male         38           69             T10      47.2   \n",
      "3    4    Male         32           72              C4      40.7   \n",
      "4    5    Male         55           71              C4      48.4   \n",
      "5    6    Male         38           74             T12      37.0   \n",
      "6    7    Male         30           73              T4      25.7   \n",
      "7    8    Male         24           65              C6      23.1   \n",
      "8    9    Male         36           70              C4      25.8   \n",
      "9   10    Male         60           71              C4      28.4   \n",
      "10  11    Male         31           67              C4      31.3   \n",
      "11  12    Male         28           73              C7      41.7   \n",
      "12  13    Male         34           74              C5      29.1   \n",
      "13  14  Female         23           68              C3      41.2   \n",
      "14  15  Female         22           61              T1      33.3   \n",
      "15  16  Female         32           67              C1      41.1   \n",
      "16  17    Male         35           73              T7      42.5   \n",
      "17  18  Female         25           65              C4      47.0   \n",
      "18  19    Male         30           72              C4      36.5   \n",
      "19  20    Male         22           72              C8      47.3   \n",
      "20  21    Male         18           68              C4      38.5   \n",
      "21  22    Male         19           76              C4      41.8   \n",
      "22  23    Male         50           73              C4      40.3   \n",
      "23  24    Male         37           66              T1      38.9   \n",
      "24  25    Male         25           75              C8      34.9   \n",
      "25  26    Male         41           78              C6      38.1   \n",
      "26  27    Male         28           74              C4      39.2   \n",
      "27  28    Male         33           72              C4      28.7   \n",
      "28  29    Male         32           72              C5      42.9   \n",
      "29  30    Male         42           73              C4      41.9   \n",
      "30  31  Female         71           67              C2      49.1   \n",
      "31  32    Male         23           73              C5      33.7   \n",
      "32  33  Female         27           63              C4      52.4   \n",
      "33  34    Male         41           72              C4      44.5   \n",
      "34  35    Male         24           68              C4      40.9   \n",
      "35  36    Male         50           65              T6      30.6   \n",
      "36  37    Male         27           71              T2      37.5   \n",
      "37  38  Female         23           65              C5      39.1   \n",
      "38  39    Male         51           70              C4      45.2   \n",
      "\n",
      "    Total-mass (LBS)  BODPOD % Fat  Body Weight (LBS) (BodPod)  Unnamed: 9  \\\n",
      "0             215.82          39.6                      213.00         NaN   \n",
      "1             260.48          29.7                      260.00         NaN   \n",
      "2             175.12          40.7                      186.80         NaN   \n",
      "3             207.02          38.2                      212.00         NaN   \n",
      "4             195.80          49.9                      193.75         NaN   \n",
      "5             180.18          19.3                      182.00         NaN   \n",
      "6             157.30          26.1                      169.00         NaN   \n",
      "7             111.76          11.9                      110.00         NaN   \n",
      "8             131.78          25.5                      125.00         NaN   \n",
      "9             145.42          16.6                      133.25         NaN   \n",
      "10            159.19          28.6                      153.25         NaN   \n",
      "11            162.58          53.6                      157.75         NaN   \n",
      "12            176.88          22.1                      192.50         NaN   \n",
      "13            113.30           5.5                      120.00         NaN   \n",
      "14            102.52          28.9                       96.25         NaN   \n",
      "15            118.14          30.1                      117.25         NaN   \n",
      "16            210.10          40.9                      208.75         NaN   \n",
      "17            152.24          45.5                      153.75         NaN   \n",
      "18            145.42          33.0                      146.00         NaN   \n",
      "19            218.68          40.4                      220.00         NaN   \n",
      "20            132.85          29.7                      142.00         NaN   \n",
      "21            221.69          39.8                      219.00         NaN   \n",
      "22            194.70          39.5                      195.00         NaN   \n",
      "23            146.52          39.2                      149.00         NaN   \n",
      "24            194.26          30.8                      194.00         NaN   \n",
      "25            165.22          30.6                      168.00         NaN   \n",
      "26            196.90          32.4                      203.50         NaN   \n",
      "27            164.10          30.6                      164.00         NaN   \n",
      "28            192.90          34.7                      192.00         NaN   \n",
      "29            215.16          40.9                      216.00         NaN   \n",
      "30            198.50          55.4                      197.25         NaN   \n",
      "31            146.96          26.9                      143.75         NaN   \n",
      "32            176.66          47.6                      175.00         NaN   \n",
      "33            149.38          43.2                      149.50         NaN   \n",
      "34            149.60          31.7                      150.00         NaN   \n",
      "35            132.44          18.3                      135.00         NaN   \n",
      "36            170.94          37.4                      169.00         NaN   \n",
      "37             93.50          33.4                       92.50         NaN   \n",
      "38            218.68          41.0                      216.00         NaN   \n",
      "\n",
      "    Unnamed: 10  Unnamed: 11  Unnamed: 12  Unnamed: 13  \n",
      "0           NaN          NaN          NaN          NaN  \n",
      "1           NaN          NaN          NaN          NaN  \n",
      "2           NaN          NaN          NaN          NaN  \n",
      "3           NaN          NaN          NaN          NaN  \n",
      "4           NaN          NaN          NaN          NaN  \n",
      "5           NaN          NaN          NaN          NaN  \n",
      "6           NaN          NaN          NaN          NaN  \n",
      "7           NaN          NaN          NaN          NaN  \n",
      "8           NaN          NaN          NaN          NaN  \n",
      "9           NaN          NaN          NaN          NaN  \n",
      "10          NaN          NaN          NaN          NaN  \n",
      "11          NaN          NaN          NaN          NaN  \n",
      "12          NaN          NaN          NaN          NaN  \n",
      "13          NaN          NaN          NaN          NaN  \n",
      "14          NaN          NaN          NaN          NaN  \n",
      "15          NaN          NaN          NaN          NaN  \n",
      "16          NaN          NaN          NaN          NaN  \n",
      "17          NaN          NaN          NaN          NaN  \n",
      "18          NaN          NaN          NaN          NaN  \n",
      "19          NaN          NaN          NaN          NaN  \n",
      "20          NaN          NaN          NaN          NaN  \n",
      "21          NaN          NaN          NaN          NaN  \n",
      "22          NaN          NaN          NaN          NaN  \n",
      "23          NaN          NaN          NaN          NaN  \n",
      "24          NaN          NaN          NaN          NaN  \n",
      "25          NaN          NaN          NaN          NaN  \n",
      "26          NaN          NaN          NaN          NaN  \n",
      "27          NaN          NaN          NaN          NaN  \n",
      "28          NaN          NaN          NaN          NaN  \n",
      "29          NaN          NaN          NaN          NaN  \n",
      "30          NaN          NaN          NaN          NaN  \n",
      "31          NaN          NaN          NaN          NaN  \n",
      "32          NaN          NaN          NaN          NaN  \n",
      "33          NaN          NaN          NaN          NaN  \n",
      "34          NaN          NaN          NaN          NaN  \n",
      "35          NaN          NaN          NaN          NaN  \n",
      "36          NaN          NaN          NaN          NaN  \n",
      "37          NaN          NaN          NaN          NaN  \n",
      "38          NaN          NaN          NaN          NaN  \n"
     ]
    }
   ],
   "source": [
    "print(df)"
   ]
  },
  {
   "cell_type": "code",
   "execution_count": null,
   "id": "434ca372",
   "metadata": {},
   "outputs": [],
   "source": []
  }
 ],
 "metadata": {
  "kernelspec": {
   "display_name": "Python 3",
   "language": "python",
   "name": "python3"
  },
  "language_info": {
   "codemirror_mode": {
    "name": "ipython",
    "version": 3
   },
   "file_extension": ".py",
   "mimetype": "text/x-python",
   "name": "python",
   "nbconvert_exporter": "python",
   "pygments_lexer": "ipython3",
   "version": "3.8.8"
  }
 },
 "nbformat": 4,
 "nbformat_minor": 5
}
